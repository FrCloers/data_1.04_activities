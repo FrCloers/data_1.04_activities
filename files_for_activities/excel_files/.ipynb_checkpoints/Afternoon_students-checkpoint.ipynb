{
 "cells": [
  {
   "cell_type": "markdown",
   "metadata": {
    "id": "vItP-95q8HNx"
   },
   "source": [
    "# Lesson 1"
   ]
  },
  {
   "cell_type": "markdown",
   "metadata": {
    "id": "dIVLaD5u8Zw9"
   },
   "source": [
    "## Loading libraries"
   ]
  },
  {
   "cell_type": "code",
   "execution_count": null,
   "metadata": {
    "id": "UdJzQiB38Vir"
   },
   "outputs": [],
   "source": [
    "import pandas as pd\n",
    "import numpy as np"
   ]
  },
  {
   "cell_type": "markdown",
   "metadata": {
    "id": "8QVOqr4n8MSi"
   },
   "source": [
    "## Load the dataset"
   ]
  },
  {
   "cell_type": "code",
   "execution_count": null,
   "metadata": {
    "colab": {
     "base_uri": "https://localhost:8080/",
     "height": 196
    },
    "id": "dkODx6QY8E6r",
    "outputId": "4d005f34-e85e-4b05-d541-46cf68d9bede"
   },
   "outputs": [
    {
     "data": {
      "text/html": [
       "<div>\n",
       "<style scoped>\n",
       "    .dataframe tbody tr th:only-of-type {\n",
       "        vertical-align: middle;\n",
       "    }\n",
       "\n",
       "    .dataframe tbody tr th {\n",
       "        vertical-align: top;\n",
       "    }\n",
       "\n",
       "    .dataframe thead th {\n",
       "        text-align: right;\n",
       "    }\n",
       "</style>\n",
       "<table border=\"1\" class=\"dataframe\">\n",
       "  <thead>\n",
       "    <tr style=\"text-align: right;\">\n",
       "      <th></th>\n",
       "      <th>id</th>\n",
       "      <th>state</th>\n",
       "      <th>gender</th>\n",
       "      <th>ic2</th>\n",
       "      <th>ic3</th>\n",
       "      <th>ic4</th>\n",
       "      <th>ic5</th>\n",
       "      <th>median_home_val</th>\n",
       "      <th>median_household_income</th>\n",
       "      <th>avggift</th>\n",
       "      <th>target_d</th>\n",
       "    </tr>\n",
       "  </thead>\n",
       "  <tbody>\n",
       "    <tr>\n",
       "      <th>0</th>\n",
       "      <td>44060.0</td>\n",
       "      <td>FL</td>\n",
       "      <td>M</td>\n",
       "      <td>430.0</td>\n",
       "      <td>466</td>\n",
       "      <td>520.0</td>\n",
       "      <td>21975.0</td>\n",
       "      <td>NaN</td>\n",
       "      <td>392.0</td>\n",
       "      <td>28.000000</td>\n",
       "      <td>100.0</td>\n",
       "    </tr>\n",
       "    <tr>\n",
       "      <th>1</th>\n",
       "      <td>96093.0</td>\n",
       "      <td>IL</td>\n",
       "      <td>M</td>\n",
       "      <td>415.0</td>\n",
       "      <td>410</td>\n",
       "      <td>473.0</td>\n",
       "      <td>19387.0</td>\n",
       "      <td>537.0</td>\n",
       "      <td>365.0</td>\n",
       "      <td>5.666667</td>\n",
       "      <td>7.0</td>\n",
       "    </tr>\n",
       "    <tr>\n",
       "      <th>2</th>\n",
       "      <td>43333.0</td>\n",
       "      <td>FL</td>\n",
       "      <td>F</td>\n",
       "      <td>340.0</td>\n",
       "      <td>361</td>\n",
       "      <td>436.0</td>\n",
       "      <td>18837.0</td>\n",
       "      <td>725.0</td>\n",
       "      <td>301.0</td>\n",
       "      <td>4.111111</td>\n",
       "      <td>5.0</td>\n",
       "    </tr>\n",
       "    <tr>\n",
       "      <th>3</th>\n",
       "      <td>21885.0</td>\n",
       "      <td>NC</td>\n",
       "      <td>M</td>\n",
       "      <td>407.0</td>\n",
       "      <td>399</td>\n",
       "      <td>413.0</td>\n",
       "      <td>14014.0</td>\n",
       "      <td>NaN</td>\n",
       "      <td>401.0</td>\n",
       "      <td>27.277778</td>\n",
       "      <td>38.0</td>\n",
       "    </tr>\n",
       "    <tr>\n",
       "      <th>4</th>\n",
       "      <td>190108.0</td>\n",
       "      <td>FL</td>\n",
       "      <td>F</td>\n",
       "      <td>280.0</td>\n",
       "      <td>316</td>\n",
       "      <td>348.0</td>\n",
       "      <td>17991.0</td>\n",
       "      <td>995.0</td>\n",
       "      <td>252.0</td>\n",
       "      <td>6.000000</td>\n",
       "      <td>5.0</td>\n",
       "    </tr>\n",
       "  </tbody>\n",
       "</table>\n",
       "</div>"
      ],
      "text/plain": [
       "         id state gender  ...  median_household_income    avggift  target_d\n",
       "0   44060.0    FL      M  ...                    392.0  28.000000     100.0\n",
       "1   96093.0    IL      M  ...                    365.0   5.666667       7.0\n",
       "2   43333.0    FL      F  ...                    301.0   4.111111       5.0\n",
       "3   21885.0    NC      M  ...                    401.0  27.277778      38.0\n",
       "4  190108.0    FL      F  ...                    252.0   6.000000       5.0\n",
       "\n",
       "[5 rows x 11 columns]"
      ]
     },
     "execution_count": 2,
     "metadata": {
      "tags": []
     },
     "output_type": "execute_result"
    }
   ],
   "source": [
    "data = pd.read_csv('/content/drive/MyDrive/UNIT1/DAY2/Afternoon/dataset.csv')\n",
    "data.head()"
   ]
  },
  {
   "cell_type": "markdown",
   "metadata": {
    "id": "d1X7UorS-NKf"
   },
   "source": [
    "## Exploring null values ie. `NAs`"
   ]
  },
  {
   "cell_type": "markdown",
   "metadata": {
    "id": "uOnHQ2W8-aPk"
   },
   "source": [
    "Getting the NA's of a dataframe"
   ]
  },
  {
   "cell_type": "code",
   "execution_count": null,
   "metadata": {
    "colab": {
     "base_uri": "https://localhost:8080/",
     "height": 404
    },
    "id": "sWfF1To6-Sof",
    "outputId": "6b8056cd-1619-494d-9a2d-cdf923099647"
   },
   "outputs": [
    {
     "data": {
      "text/html": [
       "<div>\n",
       "<style scoped>\n",
       "    .dataframe tbody tr th:only-of-type {\n",
       "        vertical-align: middle;\n",
       "    }\n",
       "\n",
       "    .dataframe tbody tr th {\n",
       "        vertical-align: top;\n",
       "    }\n",
       "\n",
       "    .dataframe thead th {\n",
       "        text-align: right;\n",
       "    }\n",
       "</style>\n",
       "<table border=\"1\" class=\"dataframe\">\n",
       "  <thead>\n",
       "    <tr style=\"text-align: right;\">\n",
       "      <th></th>\n",
       "      <th>id</th>\n",
       "      <th>state</th>\n",
       "      <th>gender</th>\n",
       "      <th>ic2</th>\n",
       "      <th>ic3</th>\n",
       "      <th>ic4</th>\n",
       "      <th>ic5</th>\n",
       "      <th>median_home_val</th>\n",
       "      <th>median_household_income</th>\n",
       "      <th>avggift</th>\n",
       "      <th>target_d</th>\n",
       "    </tr>\n",
       "  </thead>\n",
       "  <tbody>\n",
       "    <tr>\n",
       "      <th>0</th>\n",
       "      <td>False</td>\n",
       "      <td>False</td>\n",
       "      <td>False</td>\n",
       "      <td>False</td>\n",
       "      <td>False</td>\n",
       "      <td>False</td>\n",
       "      <td>False</td>\n",
       "      <td>True</td>\n",
       "      <td>False</td>\n",
       "      <td>False</td>\n",
       "      <td>False</td>\n",
       "    </tr>\n",
       "    <tr>\n",
       "      <th>1</th>\n",
       "      <td>False</td>\n",
       "      <td>False</td>\n",
       "      <td>False</td>\n",
       "      <td>False</td>\n",
       "      <td>False</td>\n",
       "      <td>False</td>\n",
       "      <td>False</td>\n",
       "      <td>False</td>\n",
       "      <td>False</td>\n",
       "      <td>False</td>\n",
       "      <td>False</td>\n",
       "    </tr>\n",
       "    <tr>\n",
       "      <th>2</th>\n",
       "      <td>False</td>\n",
       "      <td>False</td>\n",
       "      <td>False</td>\n",
       "      <td>False</td>\n",
       "      <td>False</td>\n",
       "      <td>False</td>\n",
       "      <td>False</td>\n",
       "      <td>False</td>\n",
       "      <td>False</td>\n",
       "      <td>False</td>\n",
       "      <td>False</td>\n",
       "    </tr>\n",
       "    <tr>\n",
       "      <th>3</th>\n",
       "      <td>False</td>\n",
       "      <td>False</td>\n",
       "      <td>False</td>\n",
       "      <td>False</td>\n",
       "      <td>False</td>\n",
       "      <td>False</td>\n",
       "      <td>False</td>\n",
       "      <td>True</td>\n",
       "      <td>False</td>\n",
       "      <td>False</td>\n",
       "      <td>False</td>\n",
       "    </tr>\n",
       "    <tr>\n",
       "      <th>4</th>\n",
       "      <td>False</td>\n",
       "      <td>False</td>\n",
       "      <td>False</td>\n",
       "      <td>False</td>\n",
       "      <td>False</td>\n",
       "      <td>False</td>\n",
       "      <td>False</td>\n",
       "      <td>False</td>\n",
       "      <td>False</td>\n",
       "      <td>False</td>\n",
       "      <td>False</td>\n",
       "    </tr>\n",
       "    <tr>\n",
       "      <th>...</th>\n",
       "      <td>...</td>\n",
       "      <td>...</td>\n",
       "      <td>...</td>\n",
       "      <td>...</td>\n",
       "      <td>...</td>\n",
       "      <td>...</td>\n",
       "      <td>...</td>\n",
       "      <td>...</td>\n",
       "      <td>...</td>\n",
       "      <td>...</td>\n",
       "      <td>...</td>\n",
       "    </tr>\n",
       "    <tr>\n",
       "      <th>3996</th>\n",
       "      <td>True</td>\n",
       "      <td>False</td>\n",
       "      <td>False</td>\n",
       "      <td>False</td>\n",
       "      <td>False</td>\n",
       "      <td>False</td>\n",
       "      <td>False</td>\n",
       "      <td>True</td>\n",
       "      <td>True</td>\n",
       "      <td>False</td>\n",
       "      <td>False</td>\n",
       "    </tr>\n",
       "    <tr>\n",
       "      <th>3997</th>\n",
       "      <td>True</td>\n",
       "      <td>False</td>\n",
       "      <td>False</td>\n",
       "      <td>False</td>\n",
       "      <td>False</td>\n",
       "      <td>False</td>\n",
       "      <td>False</td>\n",
       "      <td>True</td>\n",
       "      <td>True</td>\n",
       "      <td>False</td>\n",
       "      <td>False</td>\n",
       "    </tr>\n",
       "    <tr>\n",
       "      <th>3998</th>\n",
       "      <td>True</td>\n",
       "      <td>False</td>\n",
       "      <td>False</td>\n",
       "      <td>False</td>\n",
       "      <td>False</td>\n",
       "      <td>False</td>\n",
       "      <td>False</td>\n",
       "      <td>True</td>\n",
       "      <td>True</td>\n",
       "      <td>False</td>\n",
       "      <td>False</td>\n",
       "    </tr>\n",
       "    <tr>\n",
       "      <th>3999</th>\n",
       "      <td>True</td>\n",
       "      <td>False</td>\n",
       "      <td>False</td>\n",
       "      <td>False</td>\n",
       "      <td>False</td>\n",
       "      <td>False</td>\n",
       "      <td>False</td>\n",
       "      <td>True</td>\n",
       "      <td>True</td>\n",
       "      <td>False</td>\n",
       "      <td>False</td>\n",
       "    </tr>\n",
       "    <tr>\n",
       "      <th>4000</th>\n",
       "      <td>True</td>\n",
       "      <td>False</td>\n",
       "      <td>False</td>\n",
       "      <td>False</td>\n",
       "      <td>False</td>\n",
       "      <td>False</td>\n",
       "      <td>False</td>\n",
       "      <td>True</td>\n",
       "      <td>True</td>\n",
       "      <td>False</td>\n",
       "      <td>False</td>\n",
       "    </tr>\n",
       "  </tbody>\n",
       "</table>\n",
       "<p>4001 rows × 11 columns</p>\n",
       "</div>"
      ],
      "text/plain": [
       "         id  state  gender  ...  median_household_income  avggift  target_d\n",
       "0     False  False   False  ...                    False    False     False\n",
       "1     False  False   False  ...                    False    False     False\n",
       "2     False  False   False  ...                    False    False     False\n",
       "3     False  False   False  ...                    False    False     False\n",
       "4     False  False   False  ...                    False    False     False\n",
       "...     ...    ...     ...  ...                      ...      ...       ...\n",
       "3996   True  False   False  ...                     True    False     False\n",
       "3997   True  False   False  ...                     True    False     False\n",
       "3998   True  False   False  ...                     True    False     False\n",
       "3999   True  False   False  ...                     True    False     False\n",
       "4000   True  False   False  ...                     True    False     False\n",
       "\n",
       "[4001 rows x 11 columns]"
      ]
     },
     "execution_count": 3,
     "metadata": {
      "tags": []
     },
     "output_type": "execute_result"
    }
   ],
   "source": [
    "data.isna()"
   ]
  },
  {
   "cell_type": "markdown",
   "metadata": {
    "id": "W3xvVP5U-f9W"
   },
   "source": [
    "Counting the NA's for each column"
   ]
  },
  {
   "cell_type": "code",
   "execution_count": null,
   "metadata": {
    "colab": {
     "base_uri": "https://localhost:8080/"
    },
    "id": "GqmiMqc2-lAx",
    "outputId": "9b4e1fe1-1466-4ee0-86ae-f31c2109867c"
   },
   "outputs": [
    {
     "data": {
      "text/plain": [
       "id                         2001\n",
       "state                         0\n",
       "gender                      133\n",
       "ic2                           1\n",
       "ic3                           0\n",
       "ic4                           1\n",
       "ic5                           6\n",
       "median_home_val            2006\n",
       "median_household_income    2001\n",
       "avggift                       0\n",
       "target_d                      0\n",
       "dtype: int64"
      ]
     },
     "execution_count": 4,
     "metadata": {
      "tags": []
     },
     "output_type": "execute_result"
    }
   ],
   "source": [
    "data.isna().sum()"
   ]
  },
  {
   "cell_type": "markdown",
   "metadata": {
    "id": "NXIMCMzD-w28"
   },
   "source": [
    "Now we can compute the percentage of NA's by column."
   ]
  },
  {
   "cell_type": "code",
   "execution_count": null,
   "metadata": {
    "colab": {
     "base_uri": "https://localhost:8080/"
    },
    "id": "exXHSrNg-1Kk",
    "outputId": "09556f48-bf46-4f57-dfef-60e3375dda07"
   },
   "outputs": [
    {
     "data": {
      "text/plain": [
       "id                         50.01\n",
       "state                       0.00\n",
       "gender                      3.32\n",
       "ic2                         0.02\n",
       "ic3                         0.00\n",
       "ic4                         0.02\n",
       "ic5                         0.15\n",
       "median_home_val            50.14\n",
       "median_household_income    50.01\n",
       "avggift                     0.00\n",
       "target_d                    0.00\n",
       "dtype: float64"
      ]
     },
     "execution_count": 5,
     "metadata": {
      "tags": []
     },
     "output_type": "execute_result"
    }
   ],
   "source": [
    "round(data.isna().sum()/len(data),4)*100"
   ]
  },
  {
   "cell_type": "markdown",
   "metadata": {
    "id": "_YJP-t4i_BDh"
   },
   "source": [
    "Creating a new dataframe with this information"
   ]
  },
  {
   "cell_type": "code",
   "execution_count": null,
   "metadata": {
    "colab": {
     "base_uri": "https://localhost:8080/",
     "height": 196
    },
    "id": "cBjbC3mI_D3K",
    "outputId": "dd35bac5-02e2-469d-ffef-db7533705f38"
   },
   "outputs": [
    {
     "data": {
      "text/html": [
       "<div>\n",
       "<style scoped>\n",
       "    .dataframe tbody tr th:only-of-type {\n",
       "        vertical-align: middle;\n",
       "    }\n",
       "\n",
       "    .dataframe tbody tr th {\n",
       "        vertical-align: top;\n",
       "    }\n",
       "\n",
       "    .dataframe thead th {\n",
       "        text-align: right;\n",
       "    }\n",
       "</style>\n",
       "<table border=\"1\" class=\"dataframe\">\n",
       "  <thead>\n",
       "    <tr style=\"text-align: right;\">\n",
       "      <th></th>\n",
       "      <th>0</th>\n",
       "    </tr>\n",
       "  </thead>\n",
       "  <tbody>\n",
       "    <tr>\n",
       "      <th>id</th>\n",
       "      <td>50.01</td>\n",
       "    </tr>\n",
       "    <tr>\n",
       "      <th>state</th>\n",
       "      <td>0.00</td>\n",
       "    </tr>\n",
       "    <tr>\n",
       "      <th>gender</th>\n",
       "      <td>3.32</td>\n",
       "    </tr>\n",
       "    <tr>\n",
       "      <th>ic2</th>\n",
       "      <td>0.02</td>\n",
       "    </tr>\n",
       "    <tr>\n",
       "      <th>ic3</th>\n",
       "      <td>0.00</td>\n",
       "    </tr>\n",
       "  </tbody>\n",
       "</table>\n",
       "</div>"
      ],
      "text/plain": [
       "            0\n",
       "id      50.01\n",
       "state    0.00\n",
       "gender   3.32\n",
       "ic2      0.02\n",
       "ic3      0.00"
      ]
     },
     "execution_count": 6,
     "metadata": {
      "tags": []
     },
     "output_type": "execute_result"
    }
   ],
   "source": [
    "nulls_df = pd.DataFrame(round(data.isna().sum()/len(data),4)*100)\n",
    "nulls_df.head()"
   ]
  },
  {
   "cell_type": "markdown",
   "metadata": {
    "id": "_xo1iT95_Pji"
   },
   "source": [
    "We would like to have the column name as another column, instead of being the index."
   ]
  },
  {
   "cell_type": "code",
   "execution_count": null,
   "metadata": {
    "colab": {
     "base_uri": "https://localhost:8080/",
     "height": 196
    },
    "id": "On6Fezey_Wf_",
    "outputId": "5e0f4f52-b41f-421c-c4ab-e83c0b4b80f4"
   },
   "outputs": [
    {
     "data": {
      "text/html": [
       "<div>\n",
       "<style scoped>\n",
       "    .dataframe tbody tr th:only-of-type {\n",
       "        vertical-align: middle;\n",
       "    }\n",
       "\n",
       "    .dataframe tbody tr th {\n",
       "        vertical-align: top;\n",
       "    }\n",
       "\n",
       "    .dataframe thead th {\n",
       "        text-align: right;\n",
       "    }\n",
       "</style>\n",
       "<table border=\"1\" class=\"dataframe\">\n",
       "  <thead>\n",
       "    <tr style=\"text-align: right;\">\n",
       "      <th></th>\n",
       "      <th>index</th>\n",
       "      <th>0</th>\n",
       "    </tr>\n",
       "  </thead>\n",
       "  <tbody>\n",
       "    <tr>\n",
       "      <th>0</th>\n",
       "      <td>id</td>\n",
       "      <td>50.01</td>\n",
       "    </tr>\n",
       "    <tr>\n",
       "      <th>1</th>\n",
       "      <td>state</td>\n",
       "      <td>0.00</td>\n",
       "    </tr>\n",
       "    <tr>\n",
       "      <th>2</th>\n",
       "      <td>gender</td>\n",
       "      <td>3.32</td>\n",
       "    </tr>\n",
       "    <tr>\n",
       "      <th>3</th>\n",
       "      <td>ic2</td>\n",
       "      <td>0.02</td>\n",
       "    </tr>\n",
       "    <tr>\n",
       "      <th>4</th>\n",
       "      <td>ic3</td>\n",
       "      <td>0.00</td>\n",
       "    </tr>\n",
       "  </tbody>\n",
       "</table>\n",
       "</div>"
      ],
      "text/plain": [
       "    index      0\n",
       "0      id  50.01\n",
       "1   state   0.00\n",
       "2  gender   3.32\n",
       "3     ic2   0.02\n",
       "4     ic3   0.00"
      ]
     },
     "execution_count": 7,
     "metadata": {
      "tags": []
     },
     "output_type": "execute_result"
    }
   ],
   "source": [
    "nulls_df = nulls_df.reset_index()\n",
    "nulls_df.head()"
   ]
  },
  {
   "cell_type": "markdown",
   "metadata": {
    "id": "RZzteMs8_lqy"
   },
   "source": [
    "Much better, however, we would like to replace the column's names by new ones."
   ]
  },
  {
   "cell_type": "code",
   "execution_count": null,
   "metadata": {
    "colab": {
     "base_uri": "https://localhost:8080/",
     "height": 375
    },
    "id": "51gYB_AF_vRN",
    "outputId": "0505c8b4-40d7-428d-f9cd-00c4e1ac905c"
   },
   "outputs": [
    {
     "data": {
      "text/html": [
       "<div>\n",
       "<style scoped>\n",
       "    .dataframe tbody tr th:only-of-type {\n",
       "        vertical-align: middle;\n",
       "    }\n",
       "\n",
       "    .dataframe tbody tr th {\n",
       "        vertical-align: top;\n",
       "    }\n",
       "\n",
       "    .dataframe thead th {\n",
       "        text-align: right;\n",
       "    }\n",
       "</style>\n",
       "<table border=\"1\" class=\"dataframe\">\n",
       "  <thead>\n",
       "    <tr style=\"text-align: right;\">\n",
       "      <th></th>\n",
       "      <th>header_name</th>\n",
       "      <th>percent_nulls</th>\n",
       "    </tr>\n",
       "  </thead>\n",
       "  <tbody>\n",
       "    <tr>\n",
       "      <th>0</th>\n",
       "      <td>id</td>\n",
       "      <td>50.01</td>\n",
       "    </tr>\n",
       "    <tr>\n",
       "      <th>1</th>\n",
       "      <td>state</td>\n",
       "      <td>0.00</td>\n",
       "    </tr>\n",
       "    <tr>\n",
       "      <th>2</th>\n",
       "      <td>gender</td>\n",
       "      <td>3.32</td>\n",
       "    </tr>\n",
       "    <tr>\n",
       "      <th>3</th>\n",
       "      <td>ic2</td>\n",
       "      <td>0.02</td>\n",
       "    </tr>\n",
       "    <tr>\n",
       "      <th>4</th>\n",
       "      <td>ic3</td>\n",
       "      <td>0.00</td>\n",
       "    </tr>\n",
       "    <tr>\n",
       "      <th>5</th>\n",
       "      <td>ic4</td>\n",
       "      <td>0.02</td>\n",
       "    </tr>\n",
       "    <tr>\n",
       "      <th>6</th>\n",
       "      <td>ic5</td>\n",
       "      <td>0.15</td>\n",
       "    </tr>\n",
       "    <tr>\n",
       "      <th>7</th>\n",
       "      <td>median_home_val</td>\n",
       "      <td>50.14</td>\n",
       "    </tr>\n",
       "    <tr>\n",
       "      <th>8</th>\n",
       "      <td>median_household_income</td>\n",
       "      <td>50.01</td>\n",
       "    </tr>\n",
       "    <tr>\n",
       "      <th>9</th>\n",
       "      <td>avggift</td>\n",
       "      <td>0.00</td>\n",
       "    </tr>\n",
       "    <tr>\n",
       "      <th>10</th>\n",
       "      <td>target_d</td>\n",
       "      <td>0.00</td>\n",
       "    </tr>\n",
       "  </tbody>\n",
       "</table>\n",
       "</div>"
      ],
      "text/plain": [
       "                header_name  percent_nulls\n",
       "0                        id          50.01\n",
       "1                     state           0.00\n",
       "2                    gender           3.32\n",
       "3                       ic2           0.02\n",
       "4                       ic3           0.00\n",
       "5                       ic4           0.02\n",
       "6                       ic5           0.15\n",
       "7           median_home_val          50.14\n",
       "8   median_household_income          50.01\n",
       "9                   avggift           0.00\n",
       "10                 target_d           0.00"
      ]
     },
     "execution_count": 8,
     "metadata": {
      "tags": []
     },
     "output_type": "execute_result"
    }
   ],
   "source": [
    "nulls_df.columns = ['header_name', 'percent_nulls']\n",
    "nulls_df"
   ]
  },
  {
   "cell_type": "markdown",
   "metadata": {
    "id": "6H950-jlAB-t"
   },
   "source": [
    "## Dropping columns with too much NA's"
   ]
  },
  {
   "cell_type": "markdown",
   "metadata": {
    "id": "V096BDf5DN8S"
   },
   "source": [
    "We are going to see how to drop all the columns which contain a threshold value of NA's equal to 3%. This value is very restrictive, but is just an example. To this end, we would like to first filter according to the `percent_nulls`and then, get the columns `header_name`.\n"
   ]
  },
  {
   "cell_type": "code",
   "execution_count": null,
   "metadata": {
    "colab": {
     "base_uri": "https://localhost:8080/"
    },
    "id": "_Nlp-e4MAGoi",
    "outputId": "e0812a8d-e4b9-4e7a-ba9d-23e601ed1005"
   },
   "outputs": [
    {
     "name": "stdout",
     "output_type": "stream",
     "text": [
      "['id' 'gender' 'median_home_val' 'median_household_income']\n"
     ]
    }
   ],
   "source": [
    "columns_drop = nulls_df[nulls_df['percent_nulls']>3]['header_name']\n",
    "print(columns_drop.values)"
   ]
  },
  {
   "cell_type": "markdown",
   "metadata": {
    "id": "6OlMltygECnz"
   },
   "source": [
    "## Replacing null values"
   ]
  },
  {
   "cell_type": "markdown",
   "metadata": {
    "id": "cj67PDxjEFhH"
   },
   "source": [
    "If a column has too many NA's is not informative and therefore it can be dropped. If not, we have two possibilities:\n",
    "\n",
    "* replace those null values if we have some `business background information` or a `reasonable` guess\n",
    "* drop only rows for which the column has missing values (ideally an small amount of rows).\n",
    "\n",
    "The strategy to follow depends on: how many missing values has the column and the availability of a `business background information` or a `reasonable` guess.\n",
    "\n",
    "Let's start checking which one particular column"
   ]
  },
  {
   "cell_type": "code",
   "execution_count": null,
   "metadata": {
    "colab": {
     "base_uri": "https://localhost:8080/",
     "height": 404
    },
    "id": "rRK_2dxJEiBU",
    "outputId": "3d7bc101-92df-4b64-8fb6-35428f10d83d"
   },
   "outputs": [
    {
     "data": {
      "text/html": [
       "<div>\n",
       "<style scoped>\n",
       "    .dataframe tbody tr th:only-of-type {\n",
       "        vertical-align: middle;\n",
       "    }\n",
       "\n",
       "    .dataframe tbody tr th {\n",
       "        vertical-align: top;\n",
       "    }\n",
       "\n",
       "    .dataframe thead th {\n",
       "        text-align: right;\n",
       "    }\n",
       "</style>\n",
       "<table border=\"1\" class=\"dataframe\">\n",
       "  <thead>\n",
       "    <tr style=\"text-align: right;\">\n",
       "      <th></th>\n",
       "      <th>id</th>\n",
       "      <th>state</th>\n",
       "      <th>gender</th>\n",
       "      <th>ic2</th>\n",
       "      <th>ic3</th>\n",
       "      <th>ic4</th>\n",
       "      <th>ic5</th>\n",
       "      <th>median_home_val</th>\n",
       "      <th>median_household_income</th>\n",
       "      <th>avggift</th>\n",
       "      <th>target_d</th>\n",
       "    </tr>\n",
       "  </thead>\n",
       "  <tbody>\n",
       "    <tr>\n",
       "      <th>15</th>\n",
       "      <td>73699.0</td>\n",
       "      <td>MI</td>\n",
       "      <td>NaN</td>\n",
       "      <td>474.0</td>\n",
       "      <td>512</td>\n",
       "      <td>523.0</td>\n",
       "      <td>9493.0</td>\n",
       "      <td>890.0</td>\n",
       "      <td>463.0</td>\n",
       "      <td>11.285714</td>\n",
       "      <td>15.0</td>\n",
       "    </tr>\n",
       "    <tr>\n",
       "      <th>21</th>\n",
       "      <td>114721.0</td>\n",
       "      <td>OK</td>\n",
       "      <td>NaN</td>\n",
       "      <td>609.0</td>\n",
       "      <td>579</td>\n",
       "      <td>656.0</td>\n",
       "      <td>26962.0</td>\n",
       "      <td>1040.0</td>\n",
       "      <td>472.0</td>\n",
       "      <td>11.666667</td>\n",
       "      <td>15.0</td>\n",
       "    </tr>\n",
       "    <tr>\n",
       "      <th>22</th>\n",
       "      <td>111795.0</td>\n",
       "      <td>AR</td>\n",
       "      <td>NaN</td>\n",
       "      <td>264.0</td>\n",
       "      <td>288</td>\n",
       "      <td>341.0</td>\n",
       "      <td>12038.0</td>\n",
       "      <td>603.0</td>\n",
       "      <td>208.0</td>\n",
       "      <td>5.000000</td>\n",
       "      <td>5.0</td>\n",
       "    </tr>\n",
       "    <tr>\n",
       "      <th>54</th>\n",
       "      <td>190671.0</td>\n",
       "      <td>CA</td>\n",
       "      <td>NaN</td>\n",
       "      <td>353.0</td>\n",
       "      <td>328</td>\n",
       "      <td>373.0</td>\n",
       "      <td>12935.0</td>\n",
       "      <td>2143.0</td>\n",
       "      <td>280.0</td>\n",
       "      <td>9.260870</td>\n",
       "      <td>14.0</td>\n",
       "    </tr>\n",
       "    <tr>\n",
       "      <th>77</th>\n",
       "      <td>156324.0</td>\n",
       "      <td>Cali</td>\n",
       "      <td>NaN</td>\n",
       "      <td>465.0</td>\n",
       "      <td>459</td>\n",
       "      <td>497.0</td>\n",
       "      <td>17882.0</td>\n",
       "      <td>2016.0</td>\n",
       "      <td>431.0</td>\n",
       "      <td>8.750000</td>\n",
       "      <td>15.0</td>\n",
       "    </tr>\n",
       "    <tr>\n",
       "      <th>...</th>\n",
       "      <td>...</td>\n",
       "      <td>...</td>\n",
       "      <td>...</td>\n",
       "      <td>...</td>\n",
       "      <td>...</td>\n",
       "      <td>...</td>\n",
       "      <td>...</td>\n",
       "      <td>...</td>\n",
       "      <td>...</td>\n",
       "      <td>...</td>\n",
       "      <td>...</td>\n",
       "    </tr>\n",
       "    <tr>\n",
       "      <th>3790</th>\n",
       "      <td>NaN</td>\n",
       "      <td>TN</td>\n",
       "      <td>NaN</td>\n",
       "      <td>593.0</td>\n",
       "      <td>521</td>\n",
       "      <td>628.0</td>\n",
       "      <td>22094.0</td>\n",
       "      <td>NaN</td>\n",
       "      <td>NaN</td>\n",
       "      <td>5.300000</td>\n",
       "      <td>11.0</td>\n",
       "    </tr>\n",
       "    <tr>\n",
       "      <th>3860</th>\n",
       "      <td>NaN</td>\n",
       "      <td>KY</td>\n",
       "      <td>NaN</td>\n",
       "      <td>464.0</td>\n",
       "      <td>493</td>\n",
       "      <td>507.0</td>\n",
       "      <td>18693.0</td>\n",
       "      <td>NaN</td>\n",
       "      <td>NaN</td>\n",
       "      <td>10.285714</td>\n",
       "      <td>19.0</td>\n",
       "    </tr>\n",
       "    <tr>\n",
       "      <th>3894</th>\n",
       "      <td>NaN</td>\n",
       "      <td>TN</td>\n",
       "      <td>NaN</td>\n",
       "      <td>258.0</td>\n",
       "      <td>286</td>\n",
       "      <td>326.0</td>\n",
       "      <td>13218.0</td>\n",
       "      <td>NaN</td>\n",
       "      <td>NaN</td>\n",
       "      <td>10.750000</td>\n",
       "      <td>15.0</td>\n",
       "    </tr>\n",
       "    <tr>\n",
       "      <th>3946</th>\n",
       "      <td>NaN</td>\n",
       "      <td>MI</td>\n",
       "      <td>NaN</td>\n",
       "      <td>463.0</td>\n",
       "      <td>403</td>\n",
       "      <td>527.0</td>\n",
       "      <td>23732.0</td>\n",
       "      <td>NaN</td>\n",
       "      <td>NaN</td>\n",
       "      <td>15.000000</td>\n",
       "      <td>25.0</td>\n",
       "    </tr>\n",
       "    <tr>\n",
       "      <th>3966</th>\n",
       "      <td>NaN</td>\n",
       "      <td>FL</td>\n",
       "      <td>NaN</td>\n",
       "      <td>236.0</td>\n",
       "      <td>253</td>\n",
       "      <td>288.0</td>\n",
       "      <td>11547.0</td>\n",
       "      <td>NaN</td>\n",
       "      <td>NaN</td>\n",
       "      <td>7.320000</td>\n",
       "      <td>5.0</td>\n",
       "    </tr>\n",
       "  </tbody>\n",
       "</table>\n",
       "<p>133 rows × 11 columns</p>\n",
       "</div>"
      ],
      "text/plain": [
       "            id state gender  ...  median_household_income    avggift  target_d\n",
       "15     73699.0    MI    NaN  ...                    463.0  11.285714      15.0\n",
       "21    114721.0    OK    NaN  ...                    472.0  11.666667      15.0\n",
       "22    111795.0    AR    NaN  ...                    208.0   5.000000       5.0\n",
       "54    190671.0    CA    NaN  ...                    280.0   9.260870      14.0\n",
       "77    156324.0  Cali    NaN  ...                    431.0   8.750000      15.0\n",
       "...        ...   ...    ...  ...                      ...        ...       ...\n",
       "3790       NaN    TN    NaN  ...                      NaN   5.300000      11.0\n",
       "3860       NaN    KY    NaN  ...                      NaN  10.285714      19.0\n",
       "3894       NaN    TN    NaN  ...                      NaN  10.750000      15.0\n",
       "3946       NaN    MI    NaN  ...                      NaN  15.000000      25.0\n",
       "3966       NaN    FL    NaN  ...                      NaN   7.320000       5.0\n",
       "\n",
       "[133 rows x 11 columns]"
      ]
     },
     "execution_count": 10,
     "metadata": {
      "tags": []
     },
     "output_type": "execute_result"
    }
   ],
   "source": [
    "data[data['gender'].isna() == True]"
   ]
  },
  {
   "cell_type": "code",
   "execution_count": null,
   "metadata": {
    "colab": {
     "base_uri": "https://localhost:8080/",
     "height": 404
    },
    "id": "8XU5UXgQEt5x",
    "outputId": "7d7ac3f1-1158-4fab-f94d-4a328f620c10"
   },
   "outputs": [
    {
     "data": {
      "text/html": [
       "<div>\n",
       "<style scoped>\n",
       "    .dataframe tbody tr th:only-of-type {\n",
       "        vertical-align: middle;\n",
       "    }\n",
       "\n",
       "    .dataframe tbody tr th {\n",
       "        vertical-align: top;\n",
       "    }\n",
       "\n",
       "    .dataframe thead th {\n",
       "        text-align: right;\n",
       "    }\n",
       "</style>\n",
       "<table border=\"1\" class=\"dataframe\">\n",
       "  <thead>\n",
       "    <tr style=\"text-align: right;\">\n",
       "      <th></th>\n",
       "      <th>id</th>\n",
       "      <th>state</th>\n",
       "      <th>gender</th>\n",
       "      <th>ic2</th>\n",
       "      <th>ic3</th>\n",
       "      <th>ic4</th>\n",
       "      <th>ic5</th>\n",
       "      <th>median_home_val</th>\n",
       "      <th>median_household_income</th>\n",
       "      <th>avggift</th>\n",
       "      <th>target_d</th>\n",
       "    </tr>\n",
       "  </thead>\n",
       "  <tbody>\n",
       "    <tr>\n",
       "      <th>0</th>\n",
       "      <td>44060.0</td>\n",
       "      <td>FL</td>\n",
       "      <td>M</td>\n",
       "      <td>430.0</td>\n",
       "      <td>466</td>\n",
       "      <td>520.0</td>\n",
       "      <td>21975.0</td>\n",
       "      <td>NaN</td>\n",
       "      <td>392.0</td>\n",
       "      <td>28.000000</td>\n",
       "      <td>100.0</td>\n",
       "    </tr>\n",
       "    <tr>\n",
       "      <th>1</th>\n",
       "      <td>96093.0</td>\n",
       "      <td>IL</td>\n",
       "      <td>M</td>\n",
       "      <td>415.0</td>\n",
       "      <td>410</td>\n",
       "      <td>473.0</td>\n",
       "      <td>19387.0</td>\n",
       "      <td>537.0</td>\n",
       "      <td>365.0</td>\n",
       "      <td>5.666667</td>\n",
       "      <td>7.0</td>\n",
       "    </tr>\n",
       "    <tr>\n",
       "      <th>2</th>\n",
       "      <td>43333.0</td>\n",
       "      <td>FL</td>\n",
       "      <td>F</td>\n",
       "      <td>340.0</td>\n",
       "      <td>361</td>\n",
       "      <td>436.0</td>\n",
       "      <td>18837.0</td>\n",
       "      <td>725.0</td>\n",
       "      <td>301.0</td>\n",
       "      <td>4.111111</td>\n",
       "      <td>5.0</td>\n",
       "    </tr>\n",
       "    <tr>\n",
       "      <th>3</th>\n",
       "      <td>21885.0</td>\n",
       "      <td>NC</td>\n",
       "      <td>M</td>\n",
       "      <td>407.0</td>\n",
       "      <td>399</td>\n",
       "      <td>413.0</td>\n",
       "      <td>14014.0</td>\n",
       "      <td>NaN</td>\n",
       "      <td>401.0</td>\n",
       "      <td>27.277778</td>\n",
       "      <td>38.0</td>\n",
       "    </tr>\n",
       "    <tr>\n",
       "      <th>4</th>\n",
       "      <td>190108.0</td>\n",
       "      <td>FL</td>\n",
       "      <td>F</td>\n",
       "      <td>280.0</td>\n",
       "      <td>316</td>\n",
       "      <td>348.0</td>\n",
       "      <td>17991.0</td>\n",
       "      <td>995.0</td>\n",
       "      <td>252.0</td>\n",
       "      <td>6.000000</td>\n",
       "      <td>5.0</td>\n",
       "    </tr>\n",
       "    <tr>\n",
       "      <th>...</th>\n",
       "      <td>...</td>\n",
       "      <td>...</td>\n",
       "      <td>...</td>\n",
       "      <td>...</td>\n",
       "      <td>...</td>\n",
       "      <td>...</td>\n",
       "      <td>...</td>\n",
       "      <td>...</td>\n",
       "      <td>...</td>\n",
       "      <td>...</td>\n",
       "      <td>...</td>\n",
       "    </tr>\n",
       "    <tr>\n",
       "      <th>3996</th>\n",
       "      <td>NaN</td>\n",
       "      <td>MI</td>\n",
       "      <td>F</td>\n",
       "      <td>336.0</td>\n",
       "      <td>339</td>\n",
       "      <td>388.0</td>\n",
       "      <td>12653.0</td>\n",
       "      <td>NaN</td>\n",
       "      <td>NaN</td>\n",
       "      <td>8.533333</td>\n",
       "      <td>5.0</td>\n",
       "    </tr>\n",
       "    <tr>\n",
       "      <th>3997</th>\n",
       "      <td>NaN</td>\n",
       "      <td>FL</td>\n",
       "      <td>M</td>\n",
       "      <td>263.0</td>\n",
       "      <td>262</td>\n",
       "      <td>274.0</td>\n",
       "      <td>11132.0</td>\n",
       "      <td>NaN</td>\n",
       "      <td>NaN</td>\n",
       "      <td>14.692308</td>\n",
       "      <td>20.0</td>\n",
       "    </tr>\n",
       "    <tr>\n",
       "      <th>3998</th>\n",
       "      <td>NaN</td>\n",
       "      <td>CA</td>\n",
       "      <td>F</td>\n",
       "      <td>504.0</td>\n",
       "      <td>538</td>\n",
       "      <td>537.0</td>\n",
       "      <td>16165.0</td>\n",
       "      <td>NaN</td>\n",
       "      <td>NaN</td>\n",
       "      <td>12.117647</td>\n",
       "      <td>22.0</td>\n",
       "    </tr>\n",
       "    <tr>\n",
       "      <th>3999</th>\n",
       "      <td>NaN</td>\n",
       "      <td>CA</td>\n",
       "      <td>M</td>\n",
       "      <td>609.0</td>\n",
       "      <td>612</td>\n",
       "      <td>653.0</td>\n",
       "      <td>24745.0</td>\n",
       "      <td>NaN</td>\n",
       "      <td>NaN</td>\n",
       "      <td>12.333333</td>\n",
       "      <td>21.0</td>\n",
       "    </tr>\n",
       "    <tr>\n",
       "      <th>4000</th>\n",
       "      <td>NaN</td>\n",
       "      <td>MI</td>\n",
       "      <td>M</td>\n",
       "      <td>264.0</td>\n",
       "      <td>269</td>\n",
       "      <td>299.0</td>\n",
       "      <td>10088.0</td>\n",
       "      <td>NaN</td>\n",
       "      <td>NaN</td>\n",
       "      <td>17.142857</td>\n",
       "      <td>25.0</td>\n",
       "    </tr>\n",
       "  </tbody>\n",
       "</table>\n",
       "<p>4000 rows × 11 columns</p>\n",
       "</div>"
      ],
      "text/plain": [
       "            id state gender  ...  median_household_income    avggift  target_d\n",
       "0      44060.0    FL      M  ...                    392.0  28.000000     100.0\n",
       "1      96093.0    IL      M  ...                    365.0   5.666667       7.0\n",
       "2      43333.0    FL      F  ...                    301.0   4.111111       5.0\n",
       "3      21885.0    NC      M  ...                    401.0  27.277778      38.0\n",
       "4     190108.0    FL      F  ...                    252.0   6.000000       5.0\n",
       "...        ...   ...    ...  ...                      ...        ...       ...\n",
       "3996       NaN    MI      F  ...                      NaN   8.533333       5.0\n",
       "3997       NaN    FL      M  ...                      NaN  14.692308      20.0\n",
       "3998       NaN    CA      F  ...                      NaN  12.117647      22.0\n",
       "3999       NaN    CA      M  ...                      NaN  12.333333      21.0\n",
       "4000       NaN    MI      M  ...                      NaN  17.142857      25.0\n",
       "\n",
       "[4000 rows x 11 columns]"
      ]
     },
     "execution_count": 11,
     "metadata": {
      "tags": []
     },
     "output_type": "execute_result"
    }
   ],
   "source": [
    "data = data[data['ic2'].isna() == False]\n",
    "data"
   ]
  },
  {
   "cell_type": "markdown",
   "metadata": {
    "id": "KXMeaKZSF0Xj"
   },
   "source": [
    "Now let's see how we can replace the missing values of a column with the mean **as one possible strategy of imputation**.\n",
    "\n",
    "First we compute the mean"
   ]
  },
  {
   "cell_type": "code",
   "execution_count": null,
   "metadata": {
    "id": "3gli6LLRGGp6"
   },
   "outputs": [],
   "source": [
    "mean_median_home_value = np.mean(data['median_home_val'])"
   ]
  },
  {
   "cell_type": "markdown",
   "metadata": {
    "id": "WPOxKVOcGcMc"
   },
   "source": [
    "Now we know the mean, make the **imputation**"
   ]
  },
  {
   "cell_type": "code",
   "execution_count": null,
   "metadata": {
    "id": "lcoLD6g6GiCr"
   },
   "outputs": [],
   "source": [
    "data['median_home_val'] = data['median_home_val'].fillna(mean_median_home_value)"
   ]
  },
  {
   "cell_type": "markdown",
   "metadata": {
    "id": "Xj1egT1KGo-f"
   },
   "source": [
    "## Activity 1"
   ]
  },
  {
   "cell_type": "markdown",
   "metadata": {
    "id": "-sZkKi8pJW48"
   },
   "source": [
    "1. Load data (file1.csv) in a new Jupyter notebook."
   ]
  },
  {
   "cell_type": "markdown",
   "metadata": {
    "id": "pA6JhO23JqpG"
   },
   "source": [
    "2. Write the code to filter out  the rows which have null values on columns 'ic4' and 'ic5' in the dataframe."
   ]
  },
  {
   "cell_type": "markdown",
   "metadata": {
    "id": "ia3-2u_UKrOv"
   },
   "source": [
    "3. Use the head() to check the new dataframe."
   ]
  },
  {
   "cell_type": "markdown",
   "metadata": {
    "id": "EyCEd1kFLDrO"
   },
   "source": [
    "4. Is it better to fill null values with the mean or with the median?"
   ]
  },
  {
   "cell_type": "markdown",
   "metadata": {
    "id": "3WlaaA-SLH5w"
   },
   "source": [
    "As a general rule, one can say that if the data in the column has a lot of outliers, then it is preferable to choose median over mean, otherwise you can choose the mean. One advantage when you use these imputation techniques is that you do not change the mean or median of the column. It is important to note that these are not the only means of doing that. There are a lot of other methods that can be employed, which we will take a look at, in later sessions. Sometimes the missing values in the numerical column are simply replaced by a constant, usually 0. It is very case dependent. There are no hard/fixed rules."
   ]
  },
  {
   "cell_type": "markdown",
   "metadata": {
    "id": "rOImbRfNLIzs"
   },
   "source": [
    "2. Can we drop all rows with null values?"
   ]
  },
  {
   "cell_type": "markdown",
   "metadata": {
    "id": "P7a8k7BSLSdP"
   },
   "source": [
    "Generally speaking, it would not be a good idea as you lose all the information from other columns where you do have information available. So you have to be careful when you filter out the rows with null values. You can check the percentage of data that you might lose in doing so and if it makes sense to lose that or not."
   ]
  },
  {
   "cell_type": "markdown",
   "metadata": {
    "id": "9xILLdcNM_2O"
   },
   "source": [
    "# Lesson 2"
   ]
  },
  {
   "cell_type": "markdown",
   "metadata": {
    "id": "xfRKRkulNGMf"
   },
   "source": [
    "## Replacing null values in `categorical` columns"
   ]
  },
  {
   "cell_type": "markdown",
   "metadata": {
    "id": "vr89Ut6oNTaI"
   },
   "source": [
    "Let's start counting how many possible values has a given column "
   ]
  },
  {
   "cell_type": "code",
   "execution_count": null,
   "metadata": {
    "colab": {
     "base_uri": "https://localhost:8080/"
    },
    "id": "E8x0Mff-NBji",
    "outputId": "da6de1e5-e8a1-4f0c-fada-ad59cd7481c9"
   },
   "outputs": [
    {
     "data": {
      "text/plain": [
       "F          1947\n",
       "M          1466\n",
       "NaN         133\n",
       "male        126\n",
       "female      106\n",
       "Female       75\n",
       "U            68\n",
       "Male         33\n",
       "J            23\n",
       "feamale      15\n",
       "A             1\n",
       "Name: gender, dtype: int64"
      ]
     },
     "execution_count": 18,
     "metadata": {
      "tags": []
     },
     "output_type": "execute_result"
    }
   ],
   "source": [
    "data['gender'].value_counts(dropna=False)"
   ]
  },
  {
   "cell_type": "markdown",
   "metadata": {
    "id": "fu_dFfZGO__O"
   },
   "source": [
    "Now that we know that `gender` column have some NA's, let's assing the value `F`"
   ]
  },
  {
   "cell_type": "code",
   "execution_count": null,
   "metadata": {
    "colab": {
     "base_uri": "https://localhost:8080/"
    },
    "id": "7hlwmMrsPVfe",
    "outputId": "3cec1582-ede5-42c2-e53f-7ae627f6fe8d"
   },
   "outputs": [
    {
     "data": {
      "text/plain": [
       "F          2080\n",
       "M          1466\n",
       "male        126\n",
       "female      106\n",
       "Female       75\n",
       "U            68\n",
       "Male         33\n",
       "J            23\n",
       "feamale      15\n",
       "A             1\n",
       "Name: gender, dtype: int64"
      ]
     },
     "execution_count": 19,
     "metadata": {
      "tags": []
     },
     "output_type": "execute_result"
    }
   ],
   "source": [
    "data['gender'] = data['gender'].fillna('F')\n",
    "data['gender'].value_counts(dropna=False)"
   ]
  },
  {
   "cell_type": "markdown",
   "metadata": {
    "id": "2s08cZHgPhiV"
   },
   "source": [
    "## Exporting data"
   ]
  },
  {
   "cell_type": "markdown",
   "metadata": {
    "id": "A5o3IYBCPkXM"
   },
   "source": [
    "Now we're going to save our dataframe."
   ]
  },
  {
   "cell_type": "code",
   "execution_count": null,
   "metadata": {
    "id": "dW0nNCfQPn6L"
   },
   "outputs": [],
   "source": [
    "data.to_csv('/content/drive/MyDrive/UNIT1/DAY2/Afternoon/merged_clean_ver1.csv')"
   ]
  },
  {
   "cell_type": "markdown",
   "metadata": {
    "id": "2yV2ur-uP1_3"
   },
   "source": [
    "## Lambda functions"
   ]
  },
  {
   "cell_type": "markdown",
   "metadata": {
    "id": "zAHAHYqPP5GD"
   },
   "source": [
    "Lambda functions are user defined functions which we usually use once and we don't care about storing them."
   ]
  },
  {
   "cell_type": "code",
   "execution_count": null,
   "metadata": {
    "colab": {
     "base_uri": "https://localhost:8080/"
    },
    "id": "zgJzO3SRQRKy",
    "outputId": "20aa8b47-a2d1-43a7-ba5a-ab30eb592f30"
   },
   "outputs": [
    {
     "name": "stdout",
     "output_type": "stream",
     "text": [
      "4\n"
     ]
    }
   ],
   "source": [
    "y = lambda x: x+2\n",
    "print(y(2))"
   ]
  },
  {
   "cell_type": "code",
   "execution_count": null,
   "metadata": {
    "colab": {
     "base_uri": "https://localhost:8080/"
    },
    "id": "7dk6QhIbQnFV",
    "outputId": "ff8572a5-3629-4e43-95ba-115cc7a2152a"
   },
   "outputs": [
    {
     "data": {
      "text/plain": [
       "16"
      ]
     },
     "execution_count": 22,
     "metadata": {
      "tags": []
     },
     "output_type": "execute_result"
    }
   ],
   "source": [
    "square = lambda x: x*x\n",
    "square(4)"
   ]
  },
  {
   "cell_type": "code",
   "execution_count": null,
   "metadata": {
    "colab": {
     "base_uri": "https://localhost:8080/"
    },
    "id": "4ozTn-lDQrYJ",
    "outputId": "3d741691-d3aa-4c1d-ae33-6950fbbd0b51"
   },
   "outputs": [
    {
     "data": {
      "text/plain": [
       "4"
      ]
     },
     "execution_count": 23,
     "metadata": {
      "tags": []
     },
     "output_type": "execute_result"
    }
   ],
   "source": [
    "addition = lambda x,y : x+y\n",
    "addition(1,3)"
   ]
  },
  {
   "cell_type": "markdown",
   "metadata": {
    "id": "drugziQ1Q-oD"
   },
   "source": [
    "Let's compute the square of all the elements inside a list \n",
    "\n",
    "First let's use a `for` loop."
   ]
  },
  {
   "cell_type": "code",
   "execution_count": null,
   "metadata": {
    "colab": {
     "base_uri": "https://localhost:8080/"
    },
    "id": "Nm0r_pkCQz_O",
    "outputId": "c5fc3190-457c-4933-b786-5474a7a1d502"
   },
   "outputs": [
    {
     "data": {
      "text/plain": [
       "[1, 4, 9, 16, 25, 36, 49, 64, 100]"
      ]
     },
     "execution_count": 24,
     "metadata": {
      "tags": []
     },
     "output_type": "execute_result"
    }
   ],
   "source": [
    "lst = [1,2,3,4,5,6,7,8,10]\n",
    "new_list = []\n",
    "for item in lst:\n",
    "    new_list.append(square(item))\n",
    "new_list"
   ]
  },
  {
   "cell_type": "markdown",
   "metadata": {
    "id": "1B6eReMjRIKt"
   },
   "source": [
    "Now let's use `list comprehension`"
   ]
  },
  {
   "cell_type": "code",
   "execution_count": null,
   "metadata": {
    "colab": {
     "base_uri": "https://localhost:8080/"
    },
    "id": "kR9Nl08kRLpJ",
    "outputId": "53310429-accd-4384-cdf7-8a908b805429"
   },
   "outputs": [
    {
     "data": {
      "text/plain": [
       "[1, 4, 9, 16, 25, 36, 49, 64, 100]"
      ]
     },
     "execution_count": 25,
     "metadata": {
      "tags": []
     },
     "output_type": "execute_result"
    }
   ],
   "source": [
    "new_list = [square(item) for item in lst]\n",
    "new_list"
   ]
  },
  {
   "cell_type": "markdown",
   "metadata": {
    "id": "SPu3Fy6bRQzX"
   },
   "source": [
    "We can add conditions inside the `list comprehensions`"
   ]
  },
  {
   "cell_type": "code",
   "execution_count": null,
   "metadata": {
    "colab": {
     "base_uri": "https://localhost:8080/"
    },
    "id": "yqWfhRwtRVe9",
    "outputId": "026bc803-6445-4ee9-e870-210331405764"
   },
   "outputs": [
    {
     "data": {
      "text/plain": [
       "[4, 16, 36, 64, 100]"
      ]
     },
     "execution_count": 26,
     "metadata": {
      "tags": []
     },
     "output_type": "execute_result"
    }
   ],
   "source": [
    "new_list = [square(item) for item in lst if item%2==0]\n",
    "new_list"
   ]
  },
  {
   "cell_type": "markdown",
   "metadata": {
    "id": "uw-cj8XsRklc"
   },
   "source": [
    "## Activity 2"
   ]
  },
  {
   "cell_type": "markdown",
   "metadata": {
    "id": "FtsX4cCFS-7U"
   },
   "source": [
    "1. Import the data from merged_clean_ver1.csv as a dataframe. There would be a column with the sequence of numbers (to the left of column id). Drop that column(s)."
   ]
  },
  {
   "cell_type": "markdown",
   "metadata": {
    "id": "JYPYOW5PUKvQ"
   },
   "source": [
    "2. Check the column state for null values. Replace those null values with the state that is represented largest number of times in that column\n",
    "\n"
   ]
  },
  {
   "cell_type": "markdown",
   "metadata": {
    "id": "RBkPk2ceWGeN"
   },
   "source": [
    "3. Lambda expression."
   ]
  },
  {
   "cell_type": "markdown",
   "metadata": {
    "id": "G-pJ2Vm_VHLU"
   },
   "source": [
    "* Create a simple lambda expression to add three numbers. Take those three numbers as input from the user. (Since you will accept only numbers as valid inputs, check this example to see how to do it.)\n",
    "\n",
    "Keep in mind that every user input is considered an `string`by Python. Therefore, you will need to switch it to integer"
   ]
  },
  {
   "cell_type": "markdown",
   "metadata": {
    "id": "2_g2hW02Wh57"
   },
   "source": [
    "* Define a list as lst = [1,2,3,4,5,6,7,8,10]. Write a lambda expression to find the cube of a number. Use that lambda expression to find the cube of every number in the list. Define a list comprehension for this question."
   ]
  },
  {
   "cell_type": "markdown",
   "metadata": {
    "id": "3yayXxb6W49b"
   },
   "source": [
    "# Lesson 3"
   ]
  },
  {
   "cell_type": "markdown",
   "metadata": {
    "id": "W2wUZjMOW8uG"
   },
   "source": [
    "## Map functions"
   ]
  },
  {
   "cell_type": "code",
   "execution_count": null,
   "metadata": {
    "id": "h2A5K5dPkH-0"
   },
   "outputs": [],
   "source": [
    "data.columns = list(map(lambda x: x.lower(), data.columns))"
   ]
  },
  {
   "cell_type": "markdown",
   "metadata": {
    "id": "e9FFgH0FkYAM"
   },
   "source": [
    "## Getting unique values of a column"
   ]
  },
  {
   "cell_type": "code",
   "execution_count": null,
   "metadata": {
    "colab": {
     "base_uri": "https://localhost:8080/"
    },
    "id": "1QcD04DAkajD",
    "outputId": "2031de4a-bddf-40b1-f958-30368b977326"
   },
   "outputs": [
    {
     "data": {
      "text/plain": [
       "array(['M', 'F', 'female', 'Male', 'U', 'J', 'male', 'Female', 'feamale',\n",
       "       'A'], dtype=object)"
      ]
     },
     "execution_count": 34,
     "metadata": {
      "tags": []
     },
     "output_type": "execute_result"
    }
   ],
   "source": [
    "data['gender'].unique()"
   ]
  },
  {
   "cell_type": "code",
   "execution_count": null,
   "metadata": {
    "id": "p7KTL1DZkfVv"
   },
   "outputs": [],
   "source": [
    "data['gender'] = list(map(lambda x: x.upper(), data['gender']))"
   ]
  },
  {
   "cell_type": "code",
   "execution_count": null,
   "metadata": {
    "colab": {
     "base_uri": "https://localhost:8080/"
    },
    "id": "FLeoSYNckuiE",
    "outputId": "bcf2e780-07da-487b-f1bf-69f5ab53a703"
   },
   "outputs": [
    {
     "data": {
      "text/plain": [
       "array(['M', 'F', 'FEMALE', 'MALE', 'U', 'J', 'FEAMALE', 'A'], dtype=object)"
      ]
     },
     "execution_count": 36,
     "metadata": {
      "tags": []
     },
     "output_type": "execute_result"
    }
   ],
   "source": [
    "data['gender'].unique() "
   ]
  },
  {
   "cell_type": "markdown",
   "metadata": {
    "id": "eXFep2ibkziI"
   },
   "source": [
    "## User defined function"
   ]
  },
  {
   "cell_type": "markdown",
   "metadata": {
    "id": "pMSnJPLak6Uz"
   },
   "source": [
    "In contrast with lambda functions, ùser defined functions` are functions that we can define and we will use often.\n",
    "\n",
    "The syntax is: \n",
    "\n",
    "```\n",
    "def function_name(arg1, arg2,...,argn):\n",
    "    command1\n",
    "    command2\n",
    "    [return variable]\n",
    "```\n",
    "\n",
    "We can use the function just calling using the function name and providing the arguments:\n",
    "\n",
    "```\n",
    "function_name(a, b, c,...,n)\n",
    "```\n",
    "\n",
    "When we do this, arg1 = a, arg2 = b,...., argn = n"
   ]
  },
  {
   "cell_type": "code",
   "execution_count": null,
   "metadata": {
    "id": "tx-174QDk2J7"
   },
   "outputs": [],
   "source": [
    "def clean(x):\n",
    "    if x in ['M', 'MALE']:\n",
    "        return 'Male'\n",
    "    elif x.startswith('F'):\n",
    "        return 'Female'\n",
    "    else:\n",
    "        return 'U'"
   ]
  },
  {
   "cell_type": "markdown",
   "metadata": {
    "id": "L7G-aD47l-k9"
   },
   "source": [
    "Let's see a first application of a user defined function over all the elements of a df column."
   ]
  },
  {
   "cell_type": "code",
   "execution_count": null,
   "metadata": {
    "id": "jj6GXZV3l2H4"
   },
   "outputs": [],
   "source": [
    "data['gender'] = list(map(clean, data['gender']))"
   ]
  },
  {
   "cell_type": "markdown",
   "metadata": {
    "id": "GnSFTyJbmK_9"
   },
   "source": [
    "In this case, we don't need to provide the arguments of the function, because the function will take the values of data['gender'] one by one."
   ]
  },
  {
   "cell_type": "code",
   "execution_count": null,
   "metadata": {
    "colab": {
     "base_uri": "https://localhost:8080/"
    },
    "id": "eJ1bGIHMmY6X",
    "outputId": "8d0bc5ac-e69e-4e36-d703-5a94a1d6c1e4"
   },
   "outputs": [
    {
     "data": {
      "text/plain": [
       "array(['Male', 'Female', 'U'], dtype=object)"
      ]
     },
     "execution_count": 39,
     "metadata": {
      "tags": []
     },
     "output_type": "execute_result"
    }
   ],
   "source": [
    "data['gender'].unique()"
   ]
  },
  {
   "cell_type": "markdown",
   "metadata": {
    "id": "DBRibYO1mwsY"
   },
   "source": [
    "## Activity 3"
   ]
  },
  {
   "cell_type": "markdown",
   "metadata": {
    "id": "MbUnBWhzmzER"
   },
   "source": [
    "Try to convert the following functions to lambda functions:\n",
    "\n",
    "1.\n",
    "```\n",
    "def function_1(a,b):\n",
    "    c=a+b\n",
    "    return c\n",
    "```\n",
    "\n",
    "2.\n",
    "```\n",
    "def function_2(a,b):\n",
    "    c=0\n",
    "    for i in range(a):\n",
    "        c+=2*b\n",
    "    return c\n",
    "```\n",
    "\n",
    "3.\n",
    "```\n",
    "def function_3(a,b):\n",
    "    c=0\n",
    "    if a>3:\n",
    "        c=12\n",
    "    else:\n",
    "        c='Too big.'\n",
    "    return c\n",
    "```"
   ]
  },
  {
   "cell_type": "markdown",
   "metadata": {
    "id": "E5BEEGRgnK9_"
   },
   "source": [
    "1."
   ]
  },
  {
   "cell_type": "markdown",
   "metadata": {
    "id": "or3cCoCcncnJ"
   },
   "source": [
    "2."
   ]
  },
  {
   "cell_type": "markdown",
   "metadata": {
    "id": "ZThYSiCbojc0"
   },
   "source": [
    "3."
   ]
  },
  {
   "cell_type": "markdown",
   "metadata": {
    "id": "FsPzXtLdpCi6"
   },
   "source": [
    "# Lesson 4"
   ]
  },
  {
   "cell_type": "markdown",
   "metadata": {
    "id": "ELYpZvX0pKuC"
   },
   "source": [
    "## Working with dates: datetime"
   ]
  },
  {
   "cell_type": "code",
   "execution_count": 2,
   "metadata": {
    "colab": {
     "base_uri": "https://localhost:8080/",
     "height": 196
    },
    "id": "FZPqIoZMpPS_",
    "outputId": "b09bb90b-5b9b-444d-910c-6d20326a00cb"
   },
   "outputs": [
    {
     "ename": "FileNotFoundError",
     "evalue": "[Errno 2] File merged_clean_ver1 does not exist: 'merged_clean_ver1'",
     "output_type": "error",
     "traceback": [
      "\u001b[1;31m---------------------------------------------------------------------------\u001b[0m",
      "\u001b[1;31mFileNotFoundError\u001b[0m                         Traceback (most recent call last)",
      "\u001b[1;32m<ipython-input-2-d616f77e7ab3>\u001b[0m in \u001b[0;36m<module>\u001b[1;34m\u001b[0m\n\u001b[0;32m      1\u001b[0m \u001b[1;32mimport\u001b[0m \u001b[0mpandas\u001b[0m \u001b[1;32mas\u001b[0m \u001b[0mpd\u001b[0m\u001b[1;33m\u001b[0m\u001b[1;33m\u001b[0m\u001b[0m\n\u001b[0;32m      2\u001b[0m \u001b[1;32mimport\u001b[0m \u001b[0mnumpy\u001b[0m \u001b[1;32mas\u001b[0m \u001b[0mnp\u001b[0m\u001b[1;33m\u001b[0m\u001b[1;33m\u001b[0m\u001b[0m\n\u001b[1;32m----> 3\u001b[1;33m \u001b[0mfile\u001b[0m \u001b[1;33m=\u001b[0m \u001b[0mpd\u001b[0m\u001b[1;33m.\u001b[0m\u001b[0mread_csv\u001b[0m\u001b[1;33m(\u001b[0m\u001b[1;34m'merged_clean_ver1'\u001b[0m\u001b[1;33m)\u001b[0m\u001b[1;33m\u001b[0m\u001b[1;33m\u001b[0m\u001b[0m\n\u001b[0m\u001b[0;32m      4\u001b[0m \u001b[0mfile\u001b[0m\u001b[1;33m.\u001b[0m\u001b[0mhead\u001b[0m\u001b[1;33m(\u001b[0m\u001b[1;33m)\u001b[0m\u001b[1;33m\u001b[0m\u001b[1;33m\u001b[0m\u001b[0m\n",
      "\u001b[1;32m~\\anaconda3\\lib\\site-packages\\pandas\\io\\parsers.py\u001b[0m in \u001b[0;36mparser_f\u001b[1;34m(filepath_or_buffer, sep, delimiter, header, names, index_col, usecols, squeeze, prefix, mangle_dupe_cols, dtype, engine, converters, true_values, false_values, skipinitialspace, skiprows, skipfooter, nrows, na_values, keep_default_na, na_filter, verbose, skip_blank_lines, parse_dates, infer_datetime_format, keep_date_col, date_parser, dayfirst, cache_dates, iterator, chunksize, compression, thousands, decimal, lineterminator, quotechar, quoting, doublequote, escapechar, comment, encoding, dialect, error_bad_lines, warn_bad_lines, delim_whitespace, low_memory, memory_map, float_precision)\u001b[0m\n\u001b[0;32m    674\u001b[0m         )\n\u001b[0;32m    675\u001b[0m \u001b[1;33m\u001b[0m\u001b[0m\n\u001b[1;32m--> 676\u001b[1;33m         \u001b[1;32mreturn\u001b[0m \u001b[0m_read\u001b[0m\u001b[1;33m(\u001b[0m\u001b[0mfilepath_or_buffer\u001b[0m\u001b[1;33m,\u001b[0m \u001b[0mkwds\u001b[0m\u001b[1;33m)\u001b[0m\u001b[1;33m\u001b[0m\u001b[1;33m\u001b[0m\u001b[0m\n\u001b[0m\u001b[0;32m    677\u001b[0m \u001b[1;33m\u001b[0m\u001b[0m\n\u001b[0;32m    678\u001b[0m     \u001b[0mparser_f\u001b[0m\u001b[1;33m.\u001b[0m\u001b[0m__name__\u001b[0m \u001b[1;33m=\u001b[0m \u001b[0mname\u001b[0m\u001b[1;33m\u001b[0m\u001b[1;33m\u001b[0m\u001b[0m\n",
      "\u001b[1;32m~\\anaconda3\\lib\\site-packages\\pandas\\io\\parsers.py\u001b[0m in \u001b[0;36m_read\u001b[1;34m(filepath_or_buffer, kwds)\u001b[0m\n\u001b[0;32m    446\u001b[0m \u001b[1;33m\u001b[0m\u001b[0m\n\u001b[0;32m    447\u001b[0m     \u001b[1;31m# Create the parser.\u001b[0m\u001b[1;33m\u001b[0m\u001b[1;33m\u001b[0m\u001b[1;33m\u001b[0m\u001b[0m\n\u001b[1;32m--> 448\u001b[1;33m     \u001b[0mparser\u001b[0m \u001b[1;33m=\u001b[0m \u001b[0mTextFileReader\u001b[0m\u001b[1;33m(\u001b[0m\u001b[0mfp_or_buf\u001b[0m\u001b[1;33m,\u001b[0m \u001b[1;33m**\u001b[0m\u001b[0mkwds\u001b[0m\u001b[1;33m)\u001b[0m\u001b[1;33m\u001b[0m\u001b[1;33m\u001b[0m\u001b[0m\n\u001b[0m\u001b[0;32m    449\u001b[0m \u001b[1;33m\u001b[0m\u001b[0m\n\u001b[0;32m    450\u001b[0m     \u001b[1;32mif\u001b[0m \u001b[0mchunksize\u001b[0m \u001b[1;32mor\u001b[0m \u001b[0miterator\u001b[0m\u001b[1;33m:\u001b[0m\u001b[1;33m\u001b[0m\u001b[1;33m\u001b[0m\u001b[0m\n",
      "\u001b[1;32m~\\anaconda3\\lib\\site-packages\\pandas\\io\\parsers.py\u001b[0m in \u001b[0;36m__init__\u001b[1;34m(self, f, engine, **kwds)\u001b[0m\n\u001b[0;32m    878\u001b[0m             \u001b[0mself\u001b[0m\u001b[1;33m.\u001b[0m\u001b[0moptions\u001b[0m\u001b[1;33m[\u001b[0m\u001b[1;34m\"has_index_names\"\u001b[0m\u001b[1;33m]\u001b[0m \u001b[1;33m=\u001b[0m \u001b[0mkwds\u001b[0m\u001b[1;33m[\u001b[0m\u001b[1;34m\"has_index_names\"\u001b[0m\u001b[1;33m]\u001b[0m\u001b[1;33m\u001b[0m\u001b[1;33m\u001b[0m\u001b[0m\n\u001b[0;32m    879\u001b[0m \u001b[1;33m\u001b[0m\u001b[0m\n\u001b[1;32m--> 880\u001b[1;33m         \u001b[0mself\u001b[0m\u001b[1;33m.\u001b[0m\u001b[0m_make_engine\u001b[0m\u001b[1;33m(\u001b[0m\u001b[0mself\u001b[0m\u001b[1;33m.\u001b[0m\u001b[0mengine\u001b[0m\u001b[1;33m)\u001b[0m\u001b[1;33m\u001b[0m\u001b[1;33m\u001b[0m\u001b[0m\n\u001b[0m\u001b[0;32m    881\u001b[0m \u001b[1;33m\u001b[0m\u001b[0m\n\u001b[0;32m    882\u001b[0m     \u001b[1;32mdef\u001b[0m \u001b[0mclose\u001b[0m\u001b[1;33m(\u001b[0m\u001b[0mself\u001b[0m\u001b[1;33m)\u001b[0m\u001b[1;33m:\u001b[0m\u001b[1;33m\u001b[0m\u001b[1;33m\u001b[0m\u001b[0m\n",
      "\u001b[1;32m~\\anaconda3\\lib\\site-packages\\pandas\\io\\parsers.py\u001b[0m in \u001b[0;36m_make_engine\u001b[1;34m(self, engine)\u001b[0m\n\u001b[0;32m   1112\u001b[0m     \u001b[1;32mdef\u001b[0m \u001b[0m_make_engine\u001b[0m\u001b[1;33m(\u001b[0m\u001b[0mself\u001b[0m\u001b[1;33m,\u001b[0m \u001b[0mengine\u001b[0m\u001b[1;33m=\u001b[0m\u001b[1;34m\"c\"\u001b[0m\u001b[1;33m)\u001b[0m\u001b[1;33m:\u001b[0m\u001b[1;33m\u001b[0m\u001b[1;33m\u001b[0m\u001b[0m\n\u001b[0;32m   1113\u001b[0m         \u001b[1;32mif\u001b[0m \u001b[0mengine\u001b[0m \u001b[1;33m==\u001b[0m \u001b[1;34m\"c\"\u001b[0m\u001b[1;33m:\u001b[0m\u001b[1;33m\u001b[0m\u001b[1;33m\u001b[0m\u001b[0m\n\u001b[1;32m-> 1114\u001b[1;33m             \u001b[0mself\u001b[0m\u001b[1;33m.\u001b[0m\u001b[0m_engine\u001b[0m \u001b[1;33m=\u001b[0m \u001b[0mCParserWrapper\u001b[0m\u001b[1;33m(\u001b[0m\u001b[0mself\u001b[0m\u001b[1;33m.\u001b[0m\u001b[0mf\u001b[0m\u001b[1;33m,\u001b[0m \u001b[1;33m**\u001b[0m\u001b[0mself\u001b[0m\u001b[1;33m.\u001b[0m\u001b[0moptions\u001b[0m\u001b[1;33m)\u001b[0m\u001b[1;33m\u001b[0m\u001b[1;33m\u001b[0m\u001b[0m\n\u001b[0m\u001b[0;32m   1115\u001b[0m         \u001b[1;32melse\u001b[0m\u001b[1;33m:\u001b[0m\u001b[1;33m\u001b[0m\u001b[1;33m\u001b[0m\u001b[0m\n\u001b[0;32m   1116\u001b[0m             \u001b[1;32mif\u001b[0m \u001b[0mengine\u001b[0m \u001b[1;33m==\u001b[0m \u001b[1;34m\"python\"\u001b[0m\u001b[1;33m:\u001b[0m\u001b[1;33m\u001b[0m\u001b[1;33m\u001b[0m\u001b[0m\n",
      "\u001b[1;32m~\\anaconda3\\lib\\site-packages\\pandas\\io\\parsers.py\u001b[0m in \u001b[0;36m__init__\u001b[1;34m(self, src, **kwds)\u001b[0m\n\u001b[0;32m   1889\u001b[0m         \u001b[0mkwds\u001b[0m\u001b[1;33m[\u001b[0m\u001b[1;34m\"usecols\"\u001b[0m\u001b[1;33m]\u001b[0m \u001b[1;33m=\u001b[0m \u001b[0mself\u001b[0m\u001b[1;33m.\u001b[0m\u001b[0musecols\u001b[0m\u001b[1;33m\u001b[0m\u001b[1;33m\u001b[0m\u001b[0m\n\u001b[0;32m   1890\u001b[0m \u001b[1;33m\u001b[0m\u001b[0m\n\u001b[1;32m-> 1891\u001b[1;33m         \u001b[0mself\u001b[0m\u001b[1;33m.\u001b[0m\u001b[0m_reader\u001b[0m \u001b[1;33m=\u001b[0m \u001b[0mparsers\u001b[0m\u001b[1;33m.\u001b[0m\u001b[0mTextReader\u001b[0m\u001b[1;33m(\u001b[0m\u001b[0msrc\u001b[0m\u001b[1;33m,\u001b[0m \u001b[1;33m**\u001b[0m\u001b[0mkwds\u001b[0m\u001b[1;33m)\u001b[0m\u001b[1;33m\u001b[0m\u001b[1;33m\u001b[0m\u001b[0m\n\u001b[0m\u001b[0;32m   1892\u001b[0m         \u001b[0mself\u001b[0m\u001b[1;33m.\u001b[0m\u001b[0munnamed_cols\u001b[0m \u001b[1;33m=\u001b[0m \u001b[0mself\u001b[0m\u001b[1;33m.\u001b[0m\u001b[0m_reader\u001b[0m\u001b[1;33m.\u001b[0m\u001b[0munnamed_cols\u001b[0m\u001b[1;33m\u001b[0m\u001b[1;33m\u001b[0m\u001b[0m\n\u001b[0;32m   1893\u001b[0m \u001b[1;33m\u001b[0m\u001b[0m\n",
      "\u001b[1;32mpandas\\_libs\\parsers.pyx\u001b[0m in \u001b[0;36mpandas._libs.parsers.TextReader.__cinit__\u001b[1;34m()\u001b[0m\n",
      "\u001b[1;32mpandas\\_libs\\parsers.pyx\u001b[0m in \u001b[0;36mpandas._libs.parsers.TextReader._setup_parser_source\u001b[1;34m()\u001b[0m\n",
      "\u001b[1;31mFileNotFoundError\u001b[0m: [Errno 2] File merged_clean_ver1 does not exist: 'merged_clean_ver1'"
     ]
    }
   ],
   "source": [
    "import pandas as pd\n",
    "import numpy as np\n",
    "file = pd.read_csv('merged_clean_ver1')\n",
    "file.head()"
   ]
  },
  {
   "cell_type": "code",
   "execution_count": null,
   "metadata": {
    "colab": {
     "base_uri": "https://localhost:8080/"
    },
    "id": "yT7M6xYip5vd",
    "outputId": "a6851196-b215-41ef-e2df-fc90eaa62a46"
   },
   "outputs": [
    {
     "data": {
      "text/plain": [
       "Unnamed: 0       int64\n",
       "client_id        int64\n",
       "visitor_id      object\n",
       "visit_id        object\n",
       "process_step    object\n",
       "date_time       object\n",
       "dtype: object"
      ]
     },
     "execution_count": 48,
     "metadata": {
      "tags": []
     },
     "output_type": "execute_result"
    }
   ],
   "source": [
    "file.dtypes"
   ]
  },
  {
   "cell_type": "markdown",
   "metadata": {
    "id": "NZLw7ebxqAKu"
   },
   "source": [
    "As you can see, the `date_time` column has been understood by Python as a `categorical` variable as it contains characters. However, this is not `categorical`, is a date. Fortunatelly, there is an special type of variable to handle dates: datetime.\n",
    "Let's convert the `date_time` column to a date."
   ]
  },
  {
   "cell_type": "code",
   "execution_count": null,
   "metadata": {
    "id": "c8M1Na5eqorv"
   },
   "outputs": [],
   "source": [
    "file['date_time'] = pd.to_datetime(file['date_time'], errors='coerce')"
   ]
  },
  {
   "cell_type": "markdown",
   "metadata": {
    "id": "kbEk5vXPsnNA"
   },
   "source": [
    "Double check"
   ]
  },
  {
   "cell_type": "code",
   "execution_count": null,
   "metadata": {
    "colab": {
     "base_uri": "https://localhost:8080/"
    },
    "id": "Uah0wJcasle0",
    "outputId": "6cd56c06-20dd-489f-97ac-0bf6432c192c"
   },
   "outputs": [
    {
     "data": {
      "text/plain": [
       "Unnamed: 0               int64\n",
       "client_id                int64\n",
       "visitor_id              object\n",
       "visit_id                object\n",
       "process_step            object\n",
       "date_time       datetime64[ns]\n",
       "dtype: object"
      ]
     },
     "execution_count": 50,
     "metadata": {
      "tags": []
     },
     "output_type": "execute_result"
    }
   ],
   "source": [
    "file.dtypes"
   ]
  },
  {
   "cell_type": "markdown",
   "metadata": {
    "id": "126EC-iFsslD"
   },
   "source": [
    "We can see that now the `date_time` column type is correct."
   ]
  },
  {
   "cell_type": "markdown",
   "metadata": {
    "id": "9lOJZ86Xsd2Z"
   },
   "source": [
    "Now, let's get some usefull unformation from this column. We can get the day from it."
   ]
  },
  {
   "cell_type": "code",
   "execution_count": null,
   "metadata": {
    "colab": {
     "base_uri": "https://localhost:8080/"
    },
    "id": "sxModBWusicV",
    "outputId": "89c9abd3-19e8-40fd-8f90-fb81e56c1f71"
   },
   "outputs": [
    {
     "data": {
      "text/plain": [
       "17"
      ]
     },
     "execution_count": 51,
     "metadata": {
      "tags": []
     },
     "output_type": "execute_result"
    }
   ],
   "source": [
    "file['date_time'][0].day"
   ]
  },
  {
   "cell_type": "markdown",
   "metadata": {
    "id": "p3925VAkt8PW"
   },
   "source": [
    "We can also obtain the month"
   ]
  },
  {
   "cell_type": "code",
   "execution_count": null,
   "metadata": {
    "colab": {
     "base_uri": "https://localhost:8080/"
    },
    "id": "OKB1G1n3s2MH",
    "outputId": "1bba8238-e3b0-46d5-9352-4af3865eef74"
   },
   "outputs": [
    {
     "data": {
      "text/plain": [
       "4"
      ]
     },
     "execution_count": 52,
     "metadata": {
      "tags": []
     },
     "output_type": "execute_result"
    }
   ],
   "source": [
    "file['date_time'][0].month"
   ]
  },
  {
   "cell_type": "markdown",
   "metadata": {
    "id": "Xjqo9KGrt_mr"
   },
   "source": [
    "And the year."
   ]
  },
  {
   "cell_type": "code",
   "execution_count": null,
   "metadata": {
    "colab": {
     "base_uri": "https://localhost:8080/"
    },
    "id": "wF0d5E65s7Xp",
    "outputId": "a2d72292-4161-4dfe-c20e-bddab32c353d"
   },
   "outputs": [
    {
     "data": {
      "text/plain": [
       "2017"
      ]
     },
     "execution_count": 53,
     "metadata": {
      "tags": []
     },
     "output_type": "execute_result"
    }
   ],
   "source": [
    "file['date_time'][0].year"
   ]
  },
  {
   "cell_type": "markdown",
   "metadata": {
    "id": "3Odow63PuEec"
   },
   "source": [
    "The day of the week"
   ]
  },
  {
   "cell_type": "code",
   "execution_count": null,
   "metadata": {
    "colab": {
     "base_uri": "https://localhost:8080/"
    },
    "id": "6c_GGDsPs-VO",
    "outputId": "f230c292-75d5-43bc-9e33-3838e5a4c9aa"
   },
   "outputs": [
    {
     "data": {
      "text/plain": [
       "1"
      ]
     },
     "execution_count": 54,
     "metadata": {
      "tags": []
     },
     "output_type": "execute_result"
    }
   ],
   "source": [
    "file['date_time'][0].isoweekday()  # Returns 1 for Monday and so on"
   ]
  },
  {
   "cell_type": "markdown",
   "metadata": {
    "id": "UliFkDg1uHPz"
   },
   "source": [
    "The hour in h, min."
   ]
  },
  {
   "cell_type": "code",
   "execution_count": null,
   "metadata": {
    "colab": {
     "base_uri": "https://localhost:8080/"
    },
    "id": "mjlmBzODtZ9y",
    "outputId": "ca1c3e63-fd83-43fe-c1a8-b6e4ee6db33c"
   },
   "outputs": [
    {
     "data": {
      "text/plain": [
       "datetime.time(15, 27)"
      ]
     },
     "execution_count": 55,
     "metadata": {
      "tags": []
     },
     "output_type": "execute_result"
    }
   ],
   "source": [
    "file['date_time'][0].time()"
   ]
  },
  {
   "cell_type": "code",
   "execution_count": null,
   "metadata": {
    "colab": {
     "base_uri": "https://localhost:8080/"
    },
    "id": "N5vsNyLNtoCv",
    "outputId": "ac7fe4b8-0c92-49ec-967a-d8f32c44030e"
   },
   "outputs": [
    {
     "data": {
      "text/plain": [
       "1"
      ]
     },
     "execution_count": 56,
     "metadata": {
      "tags": []
     },
     "output_type": "execute_result"
    }
   ],
   "source": [
    "file['date_time'][0].isoweekday()"
   ]
  },
  {
   "cell_type": "markdown",
   "metadata": {
    "id": "vGrqxTMBuLQq"
   },
   "source": [
    "The full date_time"
   ]
  },
  {
   "cell_type": "code",
   "execution_count": null,
   "metadata": {
    "colab": {
     "base_uri": "https://localhost:8080/",
     "height": 35
    },
    "id": "cAVd7afytpWj",
    "outputId": "b816e355-02f7-42ff-9882-a361bf4d55f8"
   },
   "outputs": [
    {
     "data": {
      "application/vnd.google.colaboratory.intrinsic+json": {
       "type": "string"
      },
      "text/plain": [
       "'2017-04-17T15:27:00'"
      ]
     },
     "execution_count": 57,
     "metadata": {
      "tags": []
     },
     "output_type": "execute_result"
    }
   ],
   "source": [
    "file['date_time'][0].isoformat()"
   ]
  },
  {
   "cell_type": "markdown",
   "metadata": {
    "id": "g5ZFrCjCuOJ4"
   },
   "source": [
    "We can also specify to display the date in a different format."
   ]
  },
  {
   "cell_type": "code",
   "execution_count": null,
   "metadata": {
    "colab": {
     "base_uri": "https://localhost:8080/",
     "height": 35
    },
    "id": "bf0t0MaquRvT",
    "outputId": "7c8b034f-0abb-41cc-f4b1-97d2e2f1a25b"
   },
   "outputs": [
    {
     "data": {
      "application/vnd.google.colaboratory.intrinsic+json": {
       "type": "string"
      },
      "text/plain": [
       "'17-04-2017'"
      ]
     },
     "execution_count": 58,
     "metadata": {
      "tags": []
     },
     "output_type": "execute_result"
    }
   ],
   "source": [
    "file['date_time'][0].strftime(format='%d-%m-%Y')"
   ]
  },
  {
   "cell_type": "code",
   "execution_count": null,
   "metadata": {
    "colab": {
     "base_uri": "https://localhost:8080/",
     "height": 35
    },
    "id": "tzm-3eVauXda",
    "outputId": "8fe1d437-aeb8-41df-e1d2-57c274a01f91"
   },
   "outputs": [
    {
     "data": {
      "application/vnd.google.colaboratory.intrinsic+json": {
       "type": "string"
      },
      "text/plain": [
       "'17/04/2017'"
      ]
     },
     "execution_count": 59,
     "metadata": {
      "tags": []
     },
     "output_type": "execute_result"
    }
   ],
   "source": [
    "file['date_time'][0].strftime(format='%d/%m/%Y')"
   ]
  },
  {
   "cell_type": "markdown",
   "metadata": {
    "id": "-U8tpN74uq69"
   },
   "source": [
    "Another format"
   ]
  },
  {
   "cell_type": "code",
   "execution_count": null,
   "metadata": {
    "colab": {
     "base_uri": "https://localhost:8080/",
     "height": 35
    },
    "id": "BAeLK87NusEg",
    "outputId": "4235a44d-7d4d-40bd-be39-1b9594a975d4"
   },
   "outputs": [
    {
     "data": {
      "application/vnd.google.colaboratory.intrinsic+json": {
       "type": "string"
      },
      "text/plain": [
       "'Monday 17. April 2017'"
      ]
     },
     "execution_count": 60,
     "metadata": {
      "tags": []
     },
     "output_type": "execute_result"
    }
   ],
   "source": [
    "file['date_time'][0].strftime(format=\"%A %d. %B %Y\")"
   ]
  },
  {
   "cell_type": "markdown",
   "metadata": {
    "id": "PM5_8ewsu9s7"
   },
   "source": [
    "## Working with local time"
   ]
  },
  {
   "cell_type": "code",
   "execution_count": null,
   "metadata": {
    "id": "Hk2ePlWWu_0j"
   },
   "outputs": [],
   "source": [
    "import time\n",
    "from datetime import date"
   ]
  },
  {
   "cell_type": "markdown",
   "metadata": {
    "id": "UdipFxtrvEh7"
   },
   "source": [
    "Getting the current date"
   ]
  },
  {
   "cell_type": "code",
   "execution_count": null,
   "metadata": {
    "colab": {
     "base_uri": "https://localhost:8080/"
    },
    "id": "qlxwGwgEvDe-",
    "outputId": "93980fe5-9704-4f12-8f46-27135dfa638e"
   },
   "outputs": [
    {
     "data": {
      "text/plain": [
       "datetime.date(2021, 1, 5)"
      ]
     },
     "execution_count": 62,
     "metadata": {
      "tags": []
     },
     "output_type": "execute_result"
    }
   ],
   "source": [
    "today = date.today()\n",
    "today"
   ]
  },
  {
   "cell_type": "markdown",
   "metadata": {
    "id": "OU8ehnP5vNYG"
   },
   "source": [
    "Getting the `local` time: the time of where the computer is running."
   ]
  },
  {
   "cell_type": "code",
   "execution_count": null,
   "metadata": {
    "colab": {
     "base_uri": "https://localhost:8080/"
    },
    "id": "UlYW4M5IvX2b",
    "outputId": "302d4b3e-d783-4819-8825-ce2db0250370"
   },
   "outputs": [
    {
     "data": {
      "text/plain": [
       "time.struct_time(tm_year=2021, tm_mon=1, tm_mday=5, tm_hour=14, tm_min=58, tm_sec=41, tm_wday=1, tm_yday=5, tm_isdst=0)"
      ]
     },
     "execution_count": 63,
     "metadata": {
      "tags": []
     },
     "output_type": "execute_result"
    }
   ],
   "source": [
    "time.localtime(time.time())"
   ]
  },
  {
   "cell_type": "markdown",
   "metadata": {
    "id": "zZ0AR0qWveR6"
   },
   "source": [
    "Now we can get the GMT time"
   ]
  },
  {
   "cell_type": "code",
   "execution_count": null,
   "metadata": {
    "colab": {
     "base_uri": "https://localhost:8080/"
    },
    "id": "1vS9GDEovgwa",
    "outputId": "f613957b-c3e4-4bd3-abb2-0181f43f4b28"
   },
   "outputs": [
    {
     "data": {
      "text/plain": [
       "time.struct_time(tm_year=2021, tm_mon=1, tm_mday=5, tm_hour=14, tm_min=58, tm_sec=41, tm_wday=1, tm_yday=5, tm_isdst=0)"
      ]
     },
     "execution_count": 64,
     "metadata": {
      "tags": []
     },
     "output_type": "execute_result"
    }
   ],
   "source": [
    "time.gmtime(time.time())"
   ]
  },
  {
   "cell_type": "markdown",
   "metadata": {
    "id": "A05J18gcvmHa"
   },
   "source": [
    "## Working with string functions"
   ]
  },
  {
   "cell_type": "markdown",
   "metadata": {
    "id": "uIerRmZ7vsbD"
   },
   "source": [
    "Python come with a very useful set of functions to work with strings."
   ]
  },
  {
   "cell_type": "code",
   "execution_count": null,
   "metadata": {
    "colab": {
     "base_uri": "https://localhost:8080/",
     "height": 35
    },
    "id": "nJadKKl4vpGV",
    "outputId": "4cf67608-a6ab-43e7-af47-3c60c9d58ac4"
   },
   "outputs": [
    {
     "data": {
      "application/vnd.google.colaboratory.intrinsic+json": {
       "type": "string"
      },
      "text/plain": [
       "' i am learning  data  analysis at ironhack  . it is  super easy '"
      ]
     },
     "execution_count": 65,
     "metadata": {
      "tags": []
     },
     "output_type": "execute_result"
    }
   ],
   "source": [
    "string = \" I am learning  data  analysis at Ironhack  . It is  super easy \"\n",
    "string.lower()"
   ]
  },
  {
   "cell_type": "code",
   "execution_count": null,
   "metadata": {
    "colab": {
     "base_uri": "https://localhost:8080/",
     "height": 35
    },
    "id": "okd3BaYOv4HV",
    "outputId": "dde49c89-5200-4e05-9b73-aeeda6aa4f62"
   },
   "outputs": [
    {
     "data": {
      "application/vnd.google.colaboratory.intrinsic+json": {
       "type": "string"
      },
      "text/plain": [
       "' I AM LEARNING  DATA  ANALYSIS AT IRONHACK  . IT IS  SUPER EASY '"
      ]
     },
     "execution_count": 66,
     "metadata": {
      "tags": []
     },
     "output_type": "execute_result"
    }
   ],
   "source": [
    "string.upper()"
   ]
  },
  {
   "cell_type": "code",
   "execution_count": null,
   "metadata": {
    "colab": {
     "base_uri": "https://localhost:8080/"
    },
    "id": "k6F06MM4v-iw",
    "outputId": "c572bbd7-1123-4cb9-ecbc-0f48881c74ac"
   },
   "outputs": [
    {
     "data": {
      "text/plain": [
       "True"
      ]
     },
     "execution_count": 67,
     "metadata": {
      "tags": []
     },
     "output_type": "execute_result"
    }
   ],
   "source": [
    "'34'.isdigit() # does not work with decimal numbers"
   ]
  },
  {
   "cell_type": "code",
   "execution_count": null,
   "metadata": {
    "colab": {
     "base_uri": "https://localhost:8080/"
    },
    "id": "02r1ibzowAt2",
    "outputId": "5610f4dd-b509-4dc2-dea7-229d60d0ad7a"
   },
   "outputs": [
    {
     "data": {
      "text/plain": [
       "False"
      ]
     },
     "execution_count": 68,
     "metadata": {
      "tags": []
     },
     "output_type": "execute_result"
    }
   ],
   "source": [
    "'34.7'.isdigit() # does not work with decimal numbers"
   ]
  },
  {
   "cell_type": "markdown",
   "metadata": {
    "id": "X-g8PxvUwJqq"
   },
   "source": [
    "Streep one blank space for the left"
   ]
  },
  {
   "cell_type": "code",
   "execution_count": null,
   "metadata": {
    "colab": {
     "base_uri": "https://localhost:8080/",
     "height": 35
    },
    "id": "41gJh319wGEs",
    "outputId": "62ff8f33-d5a6-4a12-905c-66819ad4bdb2"
   },
   "outputs": [
    {
     "data": {
      "application/vnd.google.colaboratory.intrinsic+json": {
       "type": "string"
      },
      "text/plain": [
       "'I am learning  data  analysis at Ironhack  . It is  super easy '"
      ]
     },
     "execution_count": 69,
     "metadata": {
      "tags": []
     },
     "output_type": "execute_result"
    }
   ],
   "source": [
    "string.lstrip()"
   ]
  },
  {
   "cell_type": "markdown",
   "metadata": {
    "id": "t9TT-_IQwVvO"
   },
   "source": [
    "Doing the same from the rigth"
   ]
  },
  {
   "cell_type": "code",
   "execution_count": null,
   "metadata": {
    "colab": {
     "base_uri": "https://localhost:8080/",
     "height": 35
    },
    "id": "NM1O0gddwX_r",
    "outputId": "4575d702-bbff-41e6-c28c-7315b77a3a31"
   },
   "outputs": [
    {
     "data": {
      "application/vnd.google.colaboratory.intrinsic+json": {
       "type": "string"
      },
      "text/plain": [
       "' I am learning  data  analysis at Ironhack  . It is  super easy'"
      ]
     },
     "execution_count": 70,
     "metadata": {
      "tags": []
     },
     "output_type": "execute_result"
    }
   ],
   "source": [
    "string.rstrip()"
   ]
  },
  {
   "cell_type": "markdown",
   "metadata": {
    "id": "a_PfOGddwciM"
   },
   "source": [
    "Getting a list of elements from the string split by a blank space."
   ]
  },
  {
   "cell_type": "code",
   "execution_count": null,
   "metadata": {
    "colab": {
     "base_uri": "https://localhost:8080/"
    },
    "id": "3t0g8gHcwiO0",
    "outputId": "0d12ca55-0bc9-446d-ab4d-4d5abaf40e84"
   },
   "outputs": [
    {
     "data": {
      "text/plain": [
       "['I',\n",
       " 'am',\n",
       " 'learning',\n",
       " 'data',\n",
       " 'analysis',\n",
       " 'at',\n",
       " 'Ironhack',\n",
       " '.',\n",
       " 'It',\n",
       " 'is',\n",
       " 'super',\n",
       " 'easy']"
      ]
     },
     "execution_count": 71,
     "metadata": {
      "tags": []
     },
     "output_type": "execute_result"
    }
   ],
   "source": [
    "string.split()"
   ]
  },
  {
   "cell_type": "markdown",
   "metadata": {
    "id": "shmOK4SAwmrV"
   },
   "source": [
    "Doing the same but ussing another element as element sepparator."
   ]
  },
  {
   "cell_type": "code",
   "execution_count": null,
   "metadata": {
    "colab": {
     "base_uri": "https://localhost:8080/"
    },
    "id": "fNNH6oY8wsYd",
    "outputId": "7cffdb25-d818-4faf-c0b4-39ecd28dc93f"
   },
   "outputs": [
    {
     "data": {
      "text/plain": [
       "[' I am learning  data  analysis at Ironhack  ', ' It is  super easy ']"
      ]
     },
     "execution_count": 72,
     "metadata": {
      "tags": []
     },
     "output_type": "execute_result"
    }
   ],
   "source": [
    "string.split('.')"
   ]
  },
  {
   "cell_type": "markdown",
   "metadata": {
    "id": "wz21UaxrwwnF"
   },
   "source": [
    "Now, let's make some replacements."
   ]
  },
  {
   "cell_type": "code",
   "execution_count": null,
   "metadata": {
    "colab": {
     "base_uri": "https://localhost:8080/",
     "height": 35
    },
    "id": "OaJ_gTq2wzOt",
    "outputId": "dc465220-1f91-4865-b42a-e17f5b65a8fb"
   },
   "outputs": [
    {
     "data": {
      "application/vnd.google.colaboratory.intrinsic+json": {
       "type": "string"
      },
      "text/plain": [
       "' I am learningdataanalysis at Ironhack. It issuper easy '"
      ]
     },
     "execution_count": 73,
     "metadata": {
      "tags": []
     },
     "output_type": "execute_result"
    }
   ],
   "source": [
    "string.replace('  ', '')"
   ]
  },
  {
   "cell_type": "markdown",
   "metadata": {
    "id": "6wTB9OX5w7WS"
   },
   "source": [
    "## Activity 4"
   ]
  },
  {
   "cell_type": "markdown",
   "metadata": {
    "id": "MrJqTCPDxfYh"
   },
   "source": [
    "1. Create a user-defined function to clean the column state in the dataframe.\n",
    "\n",
    "Use string functions to standardize the states to uppercase and use the strip function to clean the strings as well."
   ]
  },
  {
   "cell_type": "code",
   "execution_count": null,
   "metadata": {},
   "outputs": [],
   "source": []
  }
 ],
 "metadata": {
  "colab": {
   "name": "Afternoon_students.ipynb",
   "provenance": [],
   "toc_visible": true
  },
  "kernelspec": {
   "display_name": "Python 3",
   "language": "python",
   "name": "python3"
  },
  "language_info": {
   "codemirror_mode": {
    "name": "ipython",
    "version": 3
   },
   "file_extension": ".py",
   "mimetype": "text/x-python",
   "name": "python",
   "nbconvert_exporter": "python",
   "pygments_lexer": "ipython3",
   "version": "3.7.6"
  }
 },
 "nbformat": 4,
 "nbformat_minor": 1
}
